{
 "cells": [
  {
   "cell_type": "markdown",
   "metadata": {},
   "source": [
    "# Formative Assignment: Advanced Linear Algebra (PCA)\n",
    "This notebook will guide you through the implementation of Principal Component Analysis (PCA). Fill in the missing code and provide the required answers in the appropriate sections. You will work with the `fuel_econ.csv` dataset.\n",
    "\n",
    "Make sure to display outputs for each code cell when submitting."
   ]
  },
  {
   "cell_type": "markdown",
   "metadata": {},
   "source": [
    "### Step 1: Load and Standardize the Data\n",
    "Before applying PCA, we must standardize the dataset. Standardization ensures that all features have a mean of 0 and a standard deviation of 1, which is essential for PCA.\n",
    "Fill in the code to standardize the dataset."
   ]
  },
  {
   "cell_type": "code",
   "execution_count": 1,
   "metadata": {},
   "outputs": [
    {
     "name": "stdout",
     "output_type": "stream",
     "text": [
      "Requirement already satisfied: numpy in c:\\python311\\lib\\site-packages (2.2.1)\n",
      "Requirement already satisfied: pandas in c:\\python311\\lib\\site-packages (2.2.3)\n",
      "Requirement already satisfied: python-dateutil>=2.8.2 in c:\\users\\hp\\appdata\\roaming\\python\\python311\\site-packages (from pandas) (2.9.0.post0)\n",
      "Requirement already satisfied: pytz>=2020.1 in c:\\python311\\lib\\site-packages (from pandas) (2024.2)\n",
      "Requirement already satisfied: tzdata>=2022.7 in c:\\python311\\lib\\site-packages (from pandas) (2024.1)\n",
      "Requirement already satisfied: six>=1.5 in c:\\users\\hp\\appdata\\roaming\\python\\python311\\site-packages (from python-dateutil>=2.8.2->pandas) (1.17.0)\n"
     ]
    },
    {
     "name": "stderr",
     "output_type": "stream",
     "text": [
      "\n",
      "[notice] A new release of pip is available: 23.1.2 -> 25.0\n",
      "[notice] To update, run: python.exe -m pip install --upgrade pip\n"
     ]
    },
    {
     "name": "stdout",
     "output_type": "stream",
     "text": [
      "         id      year  cylinders     displ       pv2       pv4      city  \\\n",
      "0 -1.736919 -1.475648   0.283066  0.650453  1.466910 -1.217223 -0.859851   \n",
      "1 -1.736463 -1.475648  -0.781716 -0.727906  1.864525 -1.217223  0.006426   \n",
      "2 -1.736006 -1.475648   0.283066  0.497302  1.864525 -1.217223 -0.694328   \n",
      "3 -1.735549 -1.475648   0.283066  0.497302  1.864525 -1.217223 -0.782701   \n",
      "4 -1.735092 -1.475648  -0.781716 -0.421604 -0.627198  0.734797  0.471023   \n",
      "\n",
      "      UCity   highway  UHighway      comb       co2   feScore  ghgScore  \n",
      "0 -0.852321 -1.290466 -1.392297 -1.008194  1.022708 -0.950459 -0.945635  \n",
      "1 -0.117419  0.184923 -0.039195  0.071855 -0.298512  0.188584  0.194233  \n",
      "2 -0.753149 -0.591944 -0.851641 -0.686252  0.567862 -0.380937 -0.375701  \n",
      "3 -0.830180 -0.827279 -1.027457 -0.818547  0.751966 -0.380937 -0.375701  \n",
      "4  0.433092  0.967393  0.992405  0.647976 -0.720869  1.327627  1.334101  \n"
     ]
    }
   ],
   "source": [
    "! pip install numpy pandas\n",
    "\n",
    "import numpy as np\n",
    "import pandas as pd\n",
    "\n",
    "# Load dataset\n",
    "df = pd.read_csv(\"fuel_econ.csv\")  # Ensure the CSV is in the correct folder\n",
    "\n",
    "# Select numerical columns only\n",
    "numerical_df = df.select_dtypes(include=[np.number])\n",
    "\n",
    "# Standardize the data (zero mean, unit variance)\n",
    "standardized_data = (numerical_df - numerical_df.mean()) / numerical_df.std()\n",
    "\n",
    "# Show first few rows\n",
    "print(standardized_data.head())\n",
    "\n"
   ]
  },
  {
   "cell_type": "markdown",
   "metadata": {},
   "source": [
    "### Step 3: Calculate the Covariance Matrix\n",
    "The covariance matrix helps us understand how the features are related to each other. It is a key component in PCA."
   ]
  },
  {
   "cell_type": "code",
   "execution_count": 2,
   "metadata": {},
   "outputs": [
    {
     "name": "stdout",
     "output_type": "stream",
     "text": [
      "         id      year  cylinders     displ       pv2       pv4      city  \\\n",
      "0 -1.736919 -1.475648   0.283066  0.650453  1.466910 -1.217223 -0.859851   \n",
      "1 -1.736463 -1.475648  -0.781716 -0.727906  1.864525 -1.217223  0.006426   \n",
      "2 -1.736006 -1.475648   0.283066  0.497302  1.864525 -1.217223 -0.694328   \n",
      "3 -1.735549 -1.475648   0.283066  0.497302  1.864525 -1.217223 -0.782701   \n",
      "4 -1.735092 -1.475648  -0.781716 -0.421604 -0.627198  0.734797  0.471023   \n",
      "\n",
      "      UCity   highway  UHighway      comb       co2   feScore  ghgScore  \n",
      "0 -0.852321 -1.290466 -1.392297 -1.008194  1.022708 -0.950459 -0.945635  \n",
      "1 -0.117419  0.184923 -0.039195  0.071855 -0.298512  0.188584  0.194233  \n",
      "2 -0.753149 -0.591944 -0.851641 -0.686252  0.567862 -0.380937 -0.375701  \n",
      "3 -0.830180 -0.827279 -1.027457 -0.818547  0.751966 -0.380937 -0.375701  \n",
      "4  0.433092  0.967393  0.992405  0.647976 -0.720869  1.327627  1.334101  \n",
      "[[ 1.          0.98566773 -0.06009618 -0.07466587 -0.00656857 -0.02195097\n",
      "   0.09179979  0.09122527  0.09059304  0.09535947  0.09380298 -0.0997169\n",
      "  -0.12787305 -0.12232093]\n",
      " [ 0.98566773  1.         -0.05531293 -0.07042368  0.00623239 -0.03364318\n",
      "   0.06805006  0.06674239  0.0732897   0.07764062  0.07199349 -0.08116464\n",
      "  -0.14982946 -0.1451408 ]\n",
      " [-0.06009618 -0.05531293  1.          0.93387245  0.24757081 -0.00426438\n",
      "  -0.69310259 -0.66602886 -0.76627474 -0.77150323 -0.73802323  0.84827383\n",
      "  -0.78385803 -0.78181544]\n",
      " [-0.07466587 -0.07042368  0.93387245  1.          0.25933608  0.02207168\n",
      "  -0.7134791  -0.68616562 -0.78398415 -0.78845698 -0.75839716  0.85537478\n",
      "  -0.79343231 -0.79121609]\n",
      " [-0.00656857  0.00623239  0.24757081  0.25933608  1.         -0.66564191\n",
      "  -0.27810882 -0.27254576 -0.29680809 -0.29850423 -0.29088306  0.28720012\n",
      "  -0.29608842 -0.2931564 ]\n",
      " [-0.02195097 -0.03364318 -0.00426438  0.02207168 -0.66564191  1.\n",
      "   0.03518763  0.03786895  0.0749516   0.0774419   0.04733288 -0.0501529\n",
      "   0.06487575  0.06526291]\n",
      " [ 0.09179979  0.06805006 -0.69310259 -0.7134791  -0.27810882  0.03518763\n",
      "   1.          0.99637716  0.91543465  0.90965846  0.9895524  -0.90430487\n",
      "   0.90568063  0.89879272]\n",
      " [ 0.09122527  0.06674239 -0.66602886 -0.68616562 -0.27254576  0.03786895\n",
      "   0.99637716  1.          0.89955677  0.89781381  0.98110594 -0.88582259\n",
      "   0.89129698  0.8844584 ]\n",
      " [ 0.09059304  0.0732897  -0.76627474 -0.78398415 -0.29680809  0.0749516\n",
      "   0.91543465  0.89955677  1.          0.99219067  0.9627571  -0.91645613\n",
      "   0.91411612  0.89758471]\n",
      " [ 0.09535947  0.07764062 -0.77150323 -0.78845698 -0.29850423  0.0774419\n",
      "   0.90965846  0.89781381  0.99219067  1.          0.95657986 -0.91211735\n",
      "   0.91135464  0.89431424]\n",
      " [ 0.09380298  0.07199349 -0.73802323 -0.75839716 -0.29088306  0.04733288\n",
      "   0.9895524   0.98110594  0.9627571   0.95657986  1.         -0.92939888\n",
      "   0.92886232  0.9188067 ]\n",
      " [-0.0997169  -0.08116464  0.84827383  0.85537478  0.28720012 -0.0501529\n",
      "  -0.90430487 -0.88582259 -0.91645613 -0.91211735 -0.92939888  1.\n",
      "  -0.94062422 -0.9445657 ]\n",
      " [-0.12787305 -0.14982946 -0.78385803 -0.79343231 -0.29608842  0.06487575\n",
      "   0.90568063  0.89129698  0.91411612  0.91135464  0.92886232 -0.94062422\n",
      "   1.          0.99423101]\n",
      " [-0.12232093 -0.1451408  -0.78181544 -0.79121609 -0.2931564   0.06526291\n",
      "   0.89879272  0.8844584   0.89758471  0.89431424  0.9188067  -0.9445657\n",
      "   0.99423101  1.        ]]\n"
     ]
    }
   ],
   "source": [
    "import numpy as np\n",
    "import pandas as pd\n",
    "\n",
    "# Load the dataset\n",
    "df = pd.read_csv(\"fuel_econ.csv\")  # Make sure the file is in the correct location\n",
    "\n",
    "# Select only numerical columns for PCA\n",
    "numerical_df = df.select_dtypes(include=[np.number])\n",
    "\n",
    "# Standardize the data: (X - mean) / std deviation\n",
    "standardized_data = (numerical_df - numerical_df.mean()) / numerical_df.std()\n",
    "\n",
    "# Display the first few rows of standardized data\n",
    "print(standardized_data.head())\n",
    "\n",
    "# Compute the covariance matrix\n",
    "cov_matrix = np.cov(standardized_data.T)  # Transpose ensures features are rows\n",
    "print(cov_matrix)\n",
    "\n"
   ]
  },
  {
   "cell_type": "markdown",
   "metadata": {},
   "source": [
    "### Step 4: Perform Eigendecomposition\n",
    "Eigendecomposition of the covariance matrix will give us the eigenvalues and eigenvectors, which are essential for PCA.\n",
    "Fill in the code to compute the eigenvalues and eigenvectors of the covariance matrix."
   ]
  },
  {
   "cell_type": "code",
   "execution_count": 3,
   "metadata": {},
   "outputs": [
    {
     "name": "stdout",
     "output_type": "stream",
     "text": [
      "Covariance Matrix:\n",
      " [[ 1.          0.98566773 -0.06009618 -0.07466587 -0.00656857 -0.02195097\n",
      "   0.09179979  0.09122527  0.09059304  0.09535947  0.09380298 -0.0997169\n",
      "  -0.12787305 -0.12232093]\n",
      " [ 0.98566773  1.         -0.05531293 -0.07042368  0.00623239 -0.03364318\n",
      "   0.06805006  0.06674239  0.0732897   0.07764062  0.07199349 -0.08116464\n",
      "  -0.14982946 -0.1451408 ]\n",
      " [-0.06009618 -0.05531293  1.          0.93387245  0.24757081 -0.00426438\n",
      "  -0.69310259 -0.66602886 -0.76627474 -0.77150323 -0.73802323  0.84827383\n",
      "  -0.78385803 -0.78181544]\n",
      " [-0.07466587 -0.07042368  0.93387245  1.          0.25933608  0.02207168\n",
      "  -0.7134791  -0.68616562 -0.78398415 -0.78845698 -0.75839716  0.85537478\n",
      "  -0.79343231 -0.79121609]\n",
      " [-0.00656857  0.00623239  0.24757081  0.25933608  1.         -0.66564191\n",
      "  -0.27810882 -0.27254576 -0.29680809 -0.29850423 -0.29088306  0.28720012\n",
      "  -0.29608842 -0.2931564 ]\n",
      " [-0.02195097 -0.03364318 -0.00426438  0.02207168 -0.66564191  1.\n",
      "   0.03518763  0.03786895  0.0749516   0.0774419   0.04733288 -0.0501529\n",
      "   0.06487575  0.06526291]\n",
      " [ 0.09179979  0.06805006 -0.69310259 -0.7134791  -0.27810882  0.03518763\n",
      "   1.          0.99637716  0.91543465  0.90965846  0.9895524  -0.90430487\n",
      "   0.90568063  0.89879272]\n",
      " [ 0.09122527  0.06674239 -0.66602886 -0.68616562 -0.27254576  0.03786895\n",
      "   0.99637716  1.          0.89955677  0.89781381  0.98110594 -0.88582259\n",
      "   0.89129698  0.8844584 ]\n",
      " [ 0.09059304  0.0732897  -0.76627474 -0.78398415 -0.29680809  0.0749516\n",
      "   0.91543465  0.89955677  1.          0.99219067  0.9627571  -0.91645613\n",
      "   0.91411612  0.89758471]\n",
      " [ 0.09535947  0.07764062 -0.77150323 -0.78845698 -0.29850423  0.0774419\n",
      "   0.90965846  0.89781381  0.99219067  1.          0.95657986 -0.91211735\n",
      "   0.91135464  0.89431424]\n",
      " [ 0.09380298  0.07199349 -0.73802323 -0.75839716 -0.29088306  0.04733288\n",
      "   0.9895524   0.98110594  0.9627571   0.95657986  1.         -0.92939888\n",
      "   0.92886232  0.9188067 ]\n",
      " [-0.0997169  -0.08116464  0.84827383  0.85537478  0.28720012 -0.0501529\n",
      "  -0.90430487 -0.88582259 -0.91645613 -0.91211735 -0.92939888  1.\n",
      "  -0.94062422 -0.9445657 ]\n",
      " [-0.12787305 -0.14982946 -0.78385803 -0.79343231 -0.29608842  0.06487575\n",
      "   0.90568063  0.89129698  0.91411612  0.91135464  0.92886232 -0.94062422\n",
      "   1.          0.99423101]\n",
      " [-0.12232093 -0.1451408  -0.78181544 -0.79121609 -0.2931564   0.06526291\n",
      "   0.89879272  0.8844584   0.89758471  0.89431424  0.9188067  -0.9445657\n",
      "   0.99423101  1.        ]]\n",
      "Eigenvalues:\n",
      " [8.95492947e+00 2.06725328e+00 1.59323656e+00 6.70416990e-01\n",
      " 3.01607334e-01 1.60976566e-01 1.25518516e-01 6.40042264e-02\n",
      " 3.23446619e-02 1.36927574e-02 9.24391778e-03 4.24529707e-03\n",
      " 2.14303627e-03 3.87387264e-04]\n",
      "Eigenvectors:\n",
      " [[ 1.89952516e-02 -6.87675276e-01  7.65365183e-02  1.83729680e-02\n",
      "  -1.42115022e-02  7.02789695e-02  1.14861126e-01  4.01097554e-03\n",
      "  -1.15143583e-01 -6.95538857e-01 -6.83326435e-02  2.10633586e-02\n",
      "  -7.10578367e-03  6.07618642e-04]\n",
      " [ 1.24694065e-02 -6.89503292e-01  6.88439505e-02 -9.43831862e-03\n",
      "  -1.35600088e-02  3.37955333e-02  8.53170135e-02 -7.51768613e-03\n",
      "  -5.48830131e-02  7.10425085e-01  5.58369479e-02 -9.48384475e-03\n",
      "  -3.26885432e-04 -3.98397374e-03]\n",
      " [-2.81632694e-01  1.98550575e-02  5.61398643e-02  6.00933196e-01\n",
      "   9.71151716e-02 -7.09369930e-02  2.53817629e-01 -6.79764243e-01\n",
      "   1.19688616e-01  2.20121563e-03  1.99493288e-02  1.60174402e-02\n",
      "   8.04028190e-03 -8.90395340e-04]\n",
      " [-2.86142593e-01  3.10582044e-02  6.39803619e-02  5.69008152e-01\n",
      "  -1.12579685e-02  5.20085469e-04  2.41804525e-01  7.26076226e-01\n",
      "   5.26897639e-02  1.88707728e-02  2.64926668e-03  2.74345123e-03\n",
      "   1.81240405e-02  5.96415755e-03]\n",
      " [-1.13744496e-01 -6.35462585e-02 -6.68453743e-01  1.11921299e-01\n",
      "  -7.14324777e-01  5.74549175e-02 -8.32812952e-02 -5.31588314e-02\n",
      "  -1.69233476e-02 -1.20771098e-03 -5.08741222e-03  2.49515657e-03\n",
      "   4.77699628e-03  1.38002408e-03]\n",
      " [ 2.70758334e-02  8.29599394e-02  7.27541248e-01  4.21668361e-02\n",
      "  -6.60327363e-01  8.80109065e-02 -1.15893864e-01 -6.09407894e-02\n",
      "  -1.50666539e-02  6.07275003e-03 -7.58040546e-03  3.43747016e-03\n",
      "   5.48765707e-03  1.91014202e-03]\n",
      " [ 3.18051748e-01 -2.85135436e-02 -3.09457159e-02  3.07741602e-01\n",
      "   9.17288395e-02  2.33582113e-01 -3.48523745e-01 -1.55857376e-03\n",
      "   4.42386886e-03  1.69645875e-02 -1.66951941e-01  2.83920592e-02\n",
      "   4.69767835e-01 -6.06838753e-01]\n",
      " [ 3.13255816e-01 -2.82923311e-02 -2.88424193e-02  3.50190560e-01\n",
      "   9.64490942e-02  2.61685754e-01 -4.01063566e-01  5.82474590e-03\n",
      "  -5.01782609e-02 -1.87450161e-02  3.40247326e-01 -3.70704540e-02\n",
      "  -6.39659984e-01  9.87960517e-02]\n",
      " [ 3.22311434e-01 -2.87446531e-02 -7.41844009e-03  1.06756217e-01\n",
      "  -8.36095900e-02 -5.79051855e-01  6.98415760e-02  2.77125052e-02\n",
      "   9.29454003e-02  3.47168354e-02 -5.54437663e-01 -8.10568303e-02\n",
      "  -4.06961918e-01 -2.15560379e-01]\n",
      " [ 3.21798899e-01 -3.18825751e-02 -5.04723357e-03  9.25701948e-02\n",
      "  -8.81244175e-02 -5.98740052e-01  5.43149286e-02  3.27585244e-02\n",
      "  -3.73565517e-02 -6.93222596e-02  6.60371426e-01 -1.66112419e-02\n",
      "   2.69949131e-01 -3.33988596e-02]\n",
      " [ 3.26431467e-01 -2.95439904e-02 -2.46646202e-02  2.32059576e-01\n",
      "   3.57371029e-02 -3.52013759e-02 -1.98176493e-01  3.36046564e-04\n",
      "   2.43702958e-02  2.76273040e-02 -3.06928130e-01 -1.61455289e-03\n",
      "   3.55719959e-01  7.57771730e-01]\n",
      " [-3.24688616e-01  3.09636927e-02  2.93518765e-02  8.18837257e-02\n",
      "   7.40173982e-02 -2.55009838e-01 -3.27527105e-01 -2.56968080e-02\n",
      "  -8.31166274e-01  2.88398819e-02 -9.59897926e-02 -8.09763007e-02\n",
      "   1.25678109e-02 -3.29955487e-03]\n",
      " [ 3.21900973e-01  1.31945566e-01 -3.65682913e-02  4.07422491e-02\n",
      "  -4.52335010e-02  1.50377117e-01  4.11647519e-01 -1.91175338e-02\n",
      "  -3.95194409e-01  5.05543624e-02 -3.41858876e-02  7.19798863e-01\n",
      "  -5.88483770e-02 -4.22856834e-03]\n",
      " [ 3.19831952e-01  1.29271611e-01 -3.65195901e-02  2.92741212e-02\n",
      "  -4.98906660e-02  2.68563294e-01  4.79705745e-01 -3.49036362e-02\n",
      "  -3.25473709e-01  1.79402067e-02 -2.05372106e-03 -6.82266534e-01\n",
      "   3.17540349e-02 -9.96924525e-03]]\n"
     ]
    }
   ],
   "source": [
    "import numpy as np\n",
    "\n",
    "# Compute the covariance matrix\n",
    "cov_matrix = np.cov(standardized_data.T)  # Ensure features are in columns\n",
    "\n",
    "# Display the covariance matrix\n",
    "print(\"Covariance Matrix:\\n\", cov_matrix)\n",
    "\n",
    "# Compute Eigenvalues and Eigenvectors\n",
    "eigenvalues, eigenvectors = np.linalg.eig(cov_matrix)\n",
    "\n",
    "# Display eigenvalues and eigenvectors\n",
    "print(\"Eigenvalues:\\n\", eigenvalues)\n",
    "print(\"Eigenvectors:\\n\", eigenvectors)\n"
   ]
  },
  {
   "cell_type": "markdown",
   "metadata": {},
   "source": [
    "### Step 5: Sort Principal Components\n",
    "Sort the eigenvectors based on their corresponding eigenvalues in descending order. The higher the eigenvalue, the more important the eigenvector.\n",
    "Complete the code to sort the eigenvectors and print the sorted components."
   ]
  },
  {
   "cell_type": "code",
   "execution_count": 4,
   "metadata": {},
   "outputs": [
    {
     "name": "stdout",
     "output_type": "stream",
     "text": [
      "Sorted Eigenvalues:\n",
      " [8.95492947e+00 2.06725328e+00 1.59323656e+00 6.70416990e-01\n",
      " 3.01607334e-01 1.60976566e-01 1.25518516e-01 6.40042264e-02\n",
      " 3.23446619e-02 1.36927574e-02 9.24391778e-03 4.24529707e-03\n",
      " 2.14303627e-03 3.87387264e-04]\n"
     ]
    }
   ],
   "source": [
    "# Sort eigenvalues and corresponding eigenvectors\n",
    "sorted_indices = np.argsort(eigenvalues)[::-1]  # Sort in descending order\n",
    "eigenvalues = eigenvalues[sorted_indices]\n",
    "eigenvectors = eigenvectors[:, sorted_indices]\n",
    "\n",
    "# Display sorted eigenvalues\n",
    "print(\"Sorted Eigenvalues:\\n\", eigenvalues)\n"
   ]
  },
  {
   "cell_type": "markdown",
   "metadata": {},
   "source": [
    "### Step 6: Project Data onto Principal Components\n",
    "Now that we’ve selected the number of components, we will project the original data onto the chosen principal components.\n",
    "Fill in the code to perform the projection."
   ]
  },
  {
   "cell_type": "code",
   "execution_count": 5,
   "metadata": {},
   "outputs": [
    {
     "name": "stdout",
     "output_type": "stream",
     "text": [
      "Projected Data Shape: (3929, 14)\n"
     ]
    }
   ],
   "source": [
    "# Project standardized data onto principal components\n",
    "projected_data = np.dot(standardized_data, eigenvectors)\n",
    "\n",
    "# Display the transformed data\n",
    "print(\"Projected Data Shape:\", projected_data.shape)"
   ]
  },
  {
   "cell_type": "markdown",
   "metadata": {},
   "source": [
    "### Step 7: Output the Reduced Data\n",
    "Finally, display the reduced data obtained by projecting the original dataset onto the selected principal components."
   ]
  },
  {
   "cell_type": "code",
   "execution_count": 6,
   "metadata": {},
   "outputs": [
    {
     "name": "stdout",
     "output_type": "stream",
     "text": [
      "Number of components selected: 5\n"
     ]
    }
   ],
   "source": [
    "# Compute explained variance ratio\n",
    "explained_variance_ratio = eigenvalues / np.sum(eigenvalues)\n",
    "\n",
    "# Compute cumulative explained variance\n",
    "cumulative_variance = np.cumsum(explained_variance_ratio)\n",
    "\n",
    "# Select the number of components that retain at least 95% variance\n",
    "num_components = np.argmax(cumulative_variance >= 0.95) + 1\n",
    "\n",
    "print(f\"Number of components selected: {num_components}\")\n"
   ]
  },
  {
   "cell_type": "markdown",
   "metadata": {},
   "source": [
    "### Step 8: Visualize Before and After PCA\n",
    "Now, let's plot the original data and the data after PCA to compare the reduction in dimensions visually."
   ]
  },
  {
   "cell_type": "code",
   "execution_count": 8,
   "metadata": {},
   "outputs": [
    {
     "name": "stdout",
     "output_type": "stream",
     "text": [
      "Reduced Data Shape: (3929, 5)\n"
     ]
    }
   ],
   "source": [
    "# Reduce data using the selected number of components\n",
    "reduced_data = projected_data[:, :num_components]\n",
    "\n",
    "print(\"Reduced Data Shape:\", reduced_data.shape)\n"
   ]
  }
 ],
 "metadata": {
  "kernelspec": {
   "display_name": "Python 3",
   "name": "python3"
  },
  "language_info": {
   "codemirror_mode": {
    "name": "ipython",
    "version": 3
   },
   "file_extension": ".py",
   "mimetype": "text/x-python",
   "name": "python",
   "nbconvert_exporter": "python",
   "pygments_lexer": "ipython3",
   "version": "3.11.4"
  }
 },
 "nbformat": 4,
 "nbformat_minor": 0
}
